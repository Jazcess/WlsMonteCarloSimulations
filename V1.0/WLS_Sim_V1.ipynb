{
 "cells": [
  {
   "cell_type": "code",
   "execution_count": null,
   "metadata": {},
   "outputs": [],
   "source": [
    "%matplotlib widget\n",
    "import scipy.constants as scp\n",
    "import csv\n",
    "from scipy.stats import norm \n",
    "import statistics as stats\n",
    "import random\n",
    "import math\n",
    "import numpy as np\n",
    "import matplotlib.pyplot as plt\n",
    "import seaborn as sns\n",
    "import MonteCarlo_V1 as MC\n",
    "import Sim_funcs_V1 as func\n",
    "import Photon_Class as P\n",
    "import Sim_data as data\n",
    "import sys\n",
    "from mpl_toolkits import mplot3d\n",
    "# np.set_printoptions(threshold=sys.maxsize)\n",
    "\n",
    "random.seed(0)\n",
    "\n",
    "path = 'outputs/5mm_30cm/'\n",
    "out_file = path + 'sim_output0.txt'\n",
    "MC.sim(out_file) #start sim\n",
    "out_data = np.genfromtxt(out_file, names=True, delimiter=';', dtype=None, encoding=None) #read data\n",
    "Run = 1491\n",
    "\n",
    "detected = np.where(out_data['Detected'] == 'Yes')[0]\n",
    "hit = np.where(out_data['Hit'] == 'Yes')[0]\n",
    "refractions = np.where(out_data['Refraction_coordinate_m'] != '[]')\n",
    "det_shift_wls = out_data[detected]['Shifted_wl_nm']\n",
    "det_init_wls = out_data[detected]['Initial_wl_nm']\n",
    "all_shift_wls = out_data['Shifted_wl_nm']\n",
    "det_als = out_data[detected]['Absorption_length_m']\n",
    "all_als = out_data['Absorption_length_m']\n",
    "det_refs = out_data[detected]['Num_reflections']\n",
    "time_outs = out_data['Timed_out']\n",
    "det_times = out_data[detected]['Time_s']\n",
    "times = out_data['Time_s']\n",
    "\n",
    "\n",
    "print(f\"Hit efficiency: {len(hit)/MC.nruns * 100}%\")\n",
    "print(f\"Quantum efficiency: {len(detected)/len(hit) * 100}%\")\n",
    "print(f\"Total detection efficiency: {len(detected)/MC.nruns * 100}%\")\n",
    "print(f\"\\nSuccessful hits: {hit}\")\n",
    "print(f\"\\nNum of refractions: {len(out_data[Run]['Refraction_coordinate_m'])}\")\n",
    "print(f\"Percentage of time outs: {(len(np.where(time_outs=='True'))/len(out_data['Run']))*100}%\")\n",
    "print(\"Absorption Length:\", out_data[Run]['Absorption_length_m'])\n",
    "print(\"Isotropic re-emmission angles:\", out_data[Run]['Isotropic_emmission_angle_theta_deg'], out_data[Run]['Isotropic_emmission_angle_phi_deg'])\n",
    "print(\"Total Time:\",out_data[Run]['Time_s'] )\n",
    "print(\"Point of absorption:\", out_data[Run]['Absorption_coordinate_m'])\n",
    "\n",
    "func.plot_sim(out_data, Run, \"2d\") #select \"2d\" or \"3d \"s\n",
    "#func.plot_sim(out_data, Run, \"3d\") #select \"2d\" or \"3d \"\n",
    "\n",
    "\n",
    "# Plot detected only\n",
    "# for d in detected:\n",
    "#     Run = d\n",
    "#     func.plot_sim(out_data, Run)\n"
   ]
  },
  {
   "cell_type": "code",
   "execution_count": null,
   "metadata": {},
   "outputs": [],
   "source": [
    "\n",
    "fig, ax = plt.subplots()\n",
    "func.plot_setup(ax)\n",
    "plt.plot(data.emms_wls,data.emms_probs, lw=1, label = \"PDF\")\n",
    "plt.title(\"Kuraray Emmission Spectrum\")\n",
    "plt.plot(data.emms_wls,data.emms_cdf, lw=1,label = \"CDF\", c = \"black\")\n",
    "plt.xlabel(\"Wavelength (nm)\")\n",
    "plt.ylabel(\"Probability\")\n",
    "plt.legend(loc = \"right\")\n",
    "\n"
   ]
  },
  {
   "cell_type": "code",
   "execution_count": null,
   "metadata": {},
   "outputs": [],
   "source": [
    "\n",
    "fig, ax = plt.subplots()\n",
    "func.plot_setup(ax)\n",
    "plt.plot(data.QE_wls,data.QE_probs, lw=1)\n",
    "plt.title(\"Hamumatsu PMT QE\")\n",
    "plt.ylabel(\"QE Probability\")\n",
    "plt.xlabel(\"Wavelength (nm)\")\n",
    "\n"
   ]
  },
  {
   "cell_type": "code",
   "execution_count": null,
   "metadata": {},
   "outputs": [],
   "source": [
    "\n",
    "step = 1000\n",
    "x = np.linspace(0,1,step)\n",
    "atl = 0.06 #metres\n",
    "mu = 1/atl\n",
    "pdf = np.exp(-mu*x) #I/I_0 = exp(-mu*x)\n",
    "cdf = np.exp(-mu*x)/(-mu) #integral of pdf\n",
    "cdf_norm = (cdf - cdf.min()) / (cdf.max() - cdf.min()) #normalised between 0 and 1\n",
    "\n",
    "fig, ax = plt.subplots()\n",
    "plt.plot(x,pdf, label = \"PDF = exp(-mu*x)\", color = \"black\", lw=0.7)\n",
    "plt.plot(x,cdf_norm, label = \"CDF = exp(-mu*x) / (-mu)\", color = \"darkblue\", lw=0.7)\n",
    "plt.title(f\"PDF and CDF for absorption length\\nwith attenuation length of {atl}m\")\n",
    "plt.xlabel(\"X (m)\")\n",
    "plt.ylabel(\"Probability\")\n",
    "plt.grid(color = 'white')\n",
    "plt.legend(loc=\"right\")\n",
    "plt.xlim(0,0.5)\n",
    "ax.set_facecolor(\"lavender\")\n",
    "ax.patch.set_alpha(0.8)\n",
    "ax.spines['top'].set_visible(False)\n",
    "ax.spines['right'].set_visible(False)\n",
    "ax.spines['bottom'].set_visible(False)\n",
    "ax.spines['left'].set_visible(False)\n",
    "func.plot_setup(ax)\n",
    "\n"
   ]
  },
  {
   "cell_type": "code",
   "execution_count": null,
   "metadata": {},
   "outputs": [],
   "source": [
    "\n",
    "fig, ax = plt.subplots()\n",
    "plt.title(\"Initial and shifted wavelengths for DETECTED photons\")\n",
    "ax.hist(det_shift_wls, histtype = \"step\", bins=20, label = \"Shifted Wavelengths\")\n",
    "ax.hist(det_init_wls, histtype = \"step\", bins=20, label = \"Initial Wavelengths\")\n",
    "plt.xlabel(\"Wavelength (nm)\")\n",
    "plt.ylabel(\"Frequency\")\n",
    "plt.legend(loc = \"upper right\")\n",
    "func.plot_setup(ax)\n"
   ]
  },
  {
   "cell_type": "code",
   "execution_count": null,
   "metadata": {},
   "outputs": [],
   "source": [
    "\n",
    "fig, ax = plt.subplots()\n",
    "plt.title(\"Distribution of shifted wavelengths for ALL shifted photons\")\n",
    "ax.hist(all_shift_wls, histtype = \"step\",bins=30, label=\"Simulation Data\")\n",
    "plt.ylabel(\"Frequency\")\n",
    "plt.xlabel(\"Wavelenths (nm)\")\n",
    "plt.legend(loc=\"upper right\")\n",
    "func.plot_setup(ax)\n",
    "\n"
   ]
  },
  {
   "cell_type": "code",
   "execution_count": null,
   "metadata": {},
   "outputs": [],
   "source": [
    "\n",
    "fig, ax = plt.subplots()\n",
    "plt.title(\"Distribution of absorption lengths for DETECTED photons\")\n",
    "ax.hist(det_als, histtype = \"step\")\n",
    "plt.xlabel(\"Absorption Lengths (m)\")\n",
    "plt.ylabel(\"Frequency\")\n",
    "func.plot_setup(ax)\n",
    "\n"
   ]
  },
  {
   "cell_type": "code",
   "execution_count": null,
   "metadata": {},
   "outputs": [],
   "source": [
    "\n",
    "step = 1000\n",
    "x = np.linspace(0,np.max(all_als),2)\n",
    "atl = 0.006 #metres\n",
    "mu = 1/atl\n",
    "pdf = np.exp(-mu*x)\n",
    "\n",
    "\n",
    "fig, ax = plt.subplots()\n",
    "plt.title(\"Distribution of absorption lengths for ALL photons\")\n",
    "ax.hist(all_als, bins = 100, histtype = \"step\",label = \"Raw Data\")\n",
    "#ax.plot(x,np.multiply(pdf,60), label = \"Theory - PDF\", color = \"black\", lw=0.7)\n",
    "plt.xlabel(\"Absorption Length (m)\")\n",
    "plt.ylabel(\"Frequency\")\n",
    "plt.legend(loc='right')\n",
    "func.plot_setup(ax)\n",
    "\n"
   ]
  },
  {
   "cell_type": "code",
   "execution_count": null,
   "metadata": {},
   "outputs": [],
   "source": [
    "\n",
    "fig, ax = plt.subplots()\n",
    "plt.title(\"Distribution of reflections for DETECTED photons\")\n",
    "ax.hist(det_refs, bins = 20, histtype = \"step\")\n",
    "plt.xlabel(\"Number of Reflections\")\n",
    "plt.ylabel(\"Frequency\")\n",
    "func.plot_setup(ax)\n",
    "\n"
   ]
  },
  {
   "cell_type": "code",
   "execution_count": null,
   "metadata": {},
   "outputs": [],
   "source": [
    "\n",
    "fig, ax = plt.subplots()\n",
    "plt.title(\"Time Distribution\")\n",
    "ax.hist(det_times*1e7, bins = 30, histtype = \"step\", label=\"Detected\")\n",
    "ax.hist(times*1e7, bins = 50, histtype = \"step\",label=\"All\", color=\"darkorange\")\n",
    "plt.xlabel(\"Time (ns)\")\n",
    "plt.ylabel(\"Frequency\")\n",
    "plt.legend(loc=\"upper right\")\n",
    "func.plot_setup(ax)"
   ]
  }
 ],
 "metadata": {
  "kernelspec": {
   "display_name": "myEnv",
   "language": "python",
   "name": "python3"
  },
  "language_info": {
   "codemirror_mode": {
    "name": "ipython",
    "version": 3
   },
   "file_extension": ".py",
   "mimetype": "text/x-python",
   "name": "python",
   "nbconvert_exporter": "python",
   "pygments_lexer": "ipython3",
   "version": "3.11.4"
  }
 },
 "nbformat": 4,
 "nbformat_minor": 2
}
