{
 "cells": [
  {
   "cell_type": "code",
   "execution_count": 2,
   "metadata": {},
   "outputs": [
    {
     "name": "stdout",
     "output_type": "stream",
     "text": [
      "['refraction_index (water);1', 'refraction_index_vs_wavelength (water);1', 'absorption_length (water);1', 'absorption_length_vs_wavelength (water);1', 'absorption_inverse_length_vs_wavelength (water);1', 'photon mean life (water);1', 'transmittance;1', 'refraction_index (eljen);1', 'abslength (eljen);1', 'abslength (eljen) vs lambda;1', 'abslength (eljen active);1', 'abslength (eljen passive);1', 'emission_eljen_active;1', 'emission_eljen_active vs lambda;1', 'refraction_index (inr);1', 'abslength (inr);1', 'abslength (inr) vs lambda;1', 'abslength (inr active);1', 'abslength (inr passive);1', 'emission_inr_active;1', 'emission_inr_active vs lambda;1', 'refraction_index (kuraray);1', 'abslength (kuraray);1', 'abslength (kuraray) vs lambda;1', 'abslength (kuraray active);1', 'abslength (kuraray passive);1', 'emission_kuraray_active;1', 'emission_kuraray_active vs lambda;1', 'refraction_index (LabLogic);1', 'abslength (LabLogic);1', 'abslength (LabLogic active);1', 'abslength (LabLogic passive);1', 'emission_LabLogic_active;1', 'refraction_index (SKOD);1', 'abslength (SKOD);1', 'abslength (SKOD) vs lambda;1', 'abslength (SKOD active);1', 'abslength (SKOD passive);1', 'emission_SKOD_active;1', 'emission_SKOD_active vs lambda;1', 'refraction_index (fake);1', 'abslength (fake active);1', 'abslength (fake passive);1', 'emission_fake_active;1', 'h_wcsim_pmt_3inch_QE_vs_Lambda;1', 'h_nnvt_pmt_3inch_QE_vs_Lambda;1', 'h_hamamatsu_pmt_3inch_QE_vs_Lambda;1', 'h_wcsim_pmt_20inch_QE_vs_Lambda;1', 'h_wcsim_pmt_3inch_QE_vs_E;1', 'h_nnvt_pmt_3inch_QE_vs_E;1', 'h_hamamatsu_pmt_3inch_QE_vs_E;1', 'h_wcsim_pmt_20inch_QE_vs_E;1', 'g_tyvek_reflectivities_vs_energy;1', 'g_tyvek_reflectivities_vs_wavelength;1']\n"
     ]
    }
   ],
   "source": [
    "import uproot as ur\n",
    "\n",
    "file = \"data/spectra.root\"\n",
    "data = ur.open(file)\n",
    "\n",
    "keys = data.keys()\n",
    "\n",
    "print(keys)"
   ]
  }
 ],
 "metadata": {
  "kernelspec": {
   "display_name": "myEnv",
   "language": "python",
   "name": "python3"
  },
  "language_info": {
   "codemirror_mode": {
    "name": "ipython",
    "version": 3
   },
   "file_extension": ".py",
   "mimetype": "text/x-python",
   "name": "python",
   "nbconvert_exporter": "python",
   "pygments_lexer": "ipython3",
   "version": "3.1.undefined"
  }
 },
 "nbformat": 4,
 "nbformat_minor": 2
}
